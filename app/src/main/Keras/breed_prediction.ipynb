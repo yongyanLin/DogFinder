{
 "cells": [
  {
   "cell_type": "code",
   "execution_count": 1,
   "id": "518458a9",
   "metadata": {},
   "outputs": [],
   "source": [
    "import tensorflow as tf\n",
    "assert tf.__version__\n",
    "import os\n",
    "import numpy as np\n",
    "import matplotlib.pyplot as plt"
   ]
  },
  {
   "cell_type": "code",
   "execution_count": 2,
   "id": "b004b781",
   "metadata": {},
   "outputs": [],
   "source": [
    "image_dir = 'D:\\Downloads\\Images'"
   ]
  },
  {
   "cell_type": "code",
   "execution_count": 3,
   "id": "7120b801",
   "metadata": {},
   "outputs": [],
   "source": [
    "#check if there are any wrong images\n",
    "import PIL\n",
    "from pathlib import Path\n",
    "from PIL import UnidentifiedImageError\n",
    "\n",
    "path = Path(image_dir).rglob(\"*.jpg\")\n",
    "for img_p in path:\n",
    "    try:\n",
    "        img = PIL.Image.open(img_p)\n",
    "    except PIL.UnidentifiedImageError:\n",
    "            print(img_p)"
   ]
  },
  {
   "cell_type": "code",
   "execution_count": 3,
   "id": "ca87bae1",
   "metadata": {},
   "outputs": [],
   "source": [
    "original_generator = tf.keras.preprocessing.image.ImageDataGenerator(\n",
    "    rescale=1./255, \n",
    "    validation_split=0.2)"
   ]
  },
  {
   "cell_type": "code",
   "execution_count": 4,
   "id": "bb39628c",
   "metadata": {},
   "outputs": [
    {
     "name": "stdout",
     "output_type": "stream",
     "text": [
      "Found 16507 images belonging to 120 classes.\n",
      "Found 4072 images belonging to 120 classes.\n"
     ]
    }
   ],
   "source": [
    "batch_size = 64\n",
    "height = 224\n",
    "width = 224\n",
    "train_dt = original_generator.flow_from_directory(\n",
    "    image_dir,\n",
    "    shuffle = True,\n",
    "    target_size=(height, width),\n",
    "    batch_size=batch_size,\n",
    "    subset=\"training\")\n",
    "val_dt = original_generator.flow_from_directory(\n",
    "    image_dir,\n",
    "    shuffle = True,\n",
    "    subset=\"validation\",\n",
    "    target_size=(height, width),\n",
    "    batch_size=batch_size)"
   ]
  },
  {
   "cell_type": "code",
   "execution_count": 5,
   "id": "f630d4df",
   "metadata": {},
   "outputs": [],
   "source": [
    "original_model = tf.keras.applications.MobileNetV2(input_shape=(width,height,3),\n",
    "                                              include_top=False, \n",
    "                                              weights='imagenet')"
   ]
  },
  {
   "cell_type": "code",
   "execution_count": 6,
   "id": "899ad58d",
   "metadata": {},
   "outputs": [],
   "source": [
    "original_model.trainable = False"
   ]
  },
  {
   "cell_type": "code",
   "execution_count": 10,
   "id": "ed3cae63",
   "metadata": {},
   "outputs": [],
   "source": [
    "from tensorflow.keras import layers\n",
    "from tensorflow.keras.models import Sequential\n",
    "from tensorflow.keras import optimizers\n",
    "from tensorflow.keras import losses"
   ]
  },
  {
   "cell_type": "code",
   "execution_count": 13,
   "id": "95a8258c",
   "metadata": {},
   "outputs": [],
   "source": [
    "num = 120 \n",
    "model_s = Sequential([\n",
    "    original_model,\n",
    "    layers.Conv2D(32,(5,5),padding=\"same\",activation='relu'),\n",
    "    layers.MaxPooling2D(),\n",
    "    layers.Conv2D(64,(5,5),padding=\"same\",activation='relu'),\n",
    "    layers.MaxPooling2D(),\n",
    "    layers.Dropout(0.2), \n",
    "    layers.Flatten(), \n",
    "    layers.Dense(num, activation='softmax')\n",
    "])"
   ]
  },
  {
   "cell_type": "code",
   "execution_count": 14,
   "id": "c6a01cb0",
   "metadata": {},
   "outputs": [],
   "source": [
    "model_s.compile(optimizer='adam',\n",
    "              loss='categorical_crossentropy',\n",
    "              metrics=['accuracy'])"
   ]
  },
  {
   "cell_type": "code",
   "execution_count": 75,
   "id": "30cd1e72",
   "metadata": {},
   "outputs": [
    {
     "name": "stdout",
     "output_type": "stream",
     "text": [
      "Model: \"sequential_13\"\n",
      "_________________________________________________________________\n",
      " Layer (type)                Output Shape              Param #   \n",
      "=================================================================\n",
      " mobilenetv2_1.00_224 (Funct  (None, 7, 7, 1280)       2257984   \n",
      " ional)                                                          \n",
      "                                                                 \n",
      " conv2d_28 (Conv2D)          (None, 5, 5, 32)          368672    \n",
      "                                                                 \n",
      " max_pooling2d_16 (MaxPoolin  (None, 2, 2, 32)         0         \n",
      " g2D)                                                            \n",
      "                                                                 \n",
      " flatten_7 (Flatten)         (None, 128)               0         \n",
      "                                                                 \n",
      " dense_16 (Dense)            (None, 128)               16512     \n",
      "                                                                 \n",
      " dropout_11 (Dropout)        (None, 128)               0         \n",
      "                                                                 \n",
      " dense_17 (Dense)            (None, 120)               15480     \n",
      "                                                                 \n",
      "=================================================================\n",
      "Total params: 2,658,648\n",
      "Trainable params: 400,664\n",
      "Non-trainable params: 2,257,984\n",
      "_________________________________________________________________\n"
     ]
    }
   ],
   "source": [
    "model_s.summary()"
   ]
  },
  {
   "cell_type": "code",
   "execution_count": 15,
   "id": "eadbc23f",
   "metadata": {},
   "outputs": [
    {
     "name": "stdout",
     "output_type": "stream",
     "text": [
      "Epoch 1/10\n",
      "258/258 [==============================] - 314s 1s/step - loss: 2.5964 - accuracy: 0.3670 - val_loss: 1.5414 - val_accuracy: 0.5916\n",
      "Epoch 2/10\n",
      "258/258 [==============================] - 320s 1s/step - loss: 1.3482 - accuracy: 0.6249 - val_loss: 1.3764 - val_accuracy: 0.6238\n",
      "Epoch 3/10\n",
      "258/258 [==============================] - 318s 1s/step - loss: 0.9782 - accuracy: 0.7117 - val_loss: 1.3509 - val_accuracy: 0.6378\n",
      "Epoch 4/10\n",
      "258/258 [==============================] - 324s 1s/step - loss: 0.7211 - accuracy: 0.7793 - val_loss: 1.3360 - val_accuracy: 0.6582\n",
      "Epoch 5/10\n",
      "258/258 [==============================] - 327s 1s/step - loss: 0.5654 - accuracy: 0.8263 - val_loss: 1.4292 - val_accuracy: 0.6496\n",
      "Epoch 6/10\n",
      "258/258 [==============================] - 326s 1s/step - loss: 0.4328 - accuracy: 0.8622 - val_loss: 1.4675 - val_accuracy: 0.6653\n",
      "Epoch 7/10\n",
      "258/258 [==============================] - 324s 1s/step - loss: 0.3605 - accuracy: 0.8816 - val_loss: 1.5899 - val_accuracy: 0.6589\n",
      "Epoch 8/10\n",
      "258/258 [==============================] - 325s 1s/step - loss: 0.3034 - accuracy: 0.9044 - val_loss: 1.6571 - val_accuracy: 0.6599\n",
      "Epoch 9/10\n",
      "258/258 [==============================] - 327s 1s/step - loss: 0.2677 - accuracy: 0.9128 - val_loss: 1.7936 - val_accuracy: 0.6586\n",
      "Epoch 10/10\n",
      "258/258 [==============================] - 333s 1s/step - loss: 0.2624 - accuracy: 0.9142 - val_loss: 1.9417 - val_accuracy: 0.6496\n"
     ]
    }
   ],
   "source": [
    "epochs=10\n",
    "base = model_s.fit(\n",
    "  train_dt,\n",
    "  validation_data=val_dt,\n",
    "  epochs=epochs\n",
    ")"
   ]
  },
  {
   "cell_type": "code",
   "execution_count": 16,
   "id": "d6669f90",
   "metadata": {},
   "outputs": [
    {
     "data": {
      "image/png": "[encoded data removed]",
      "text/plain": [
       "<Figure size 1152x576 with 2 Axes>"
      ]
     },
     "metadata": {
      "needs_background": "light"
     },
     "output_type": "display_data"
    }
   ],
   "source": [
    "train_acc = base.history['accuracy']\n",
    "val_acc = base.history['val_accuracy']\n",
    "\n",
    "train_loss = base.history['loss']\n",
    "val_loss = base.history['val_loss']\n",
    "\n",
    "range_epochs = range(epochs)\n",
    "\n",
    "plt.figure(figsize=(16, 8))\n",
    "plt.subplot(1, 2, 1)\n",
    "plt.plot(range_epochs, train_acc, label='Training Accuracy')\n",
    "plt.plot(range_epochs, val_acc, label='Validation Accuracy')\n",
    "plt.legend()\n",
    "plt.title('Accuracy')\n",
    "\n",
    "plt.subplot(1, 2, 2)\n",
    "plt.plot(range_epochs, train_loss, label='Training Loss')\n",
    "plt.plot(range_epochs, val_loss, label='Validation Loss')\n",
    "plt.legend()\n",
    "plt.title('Loss')\n",
    "plt.show()"
   ]
  },
  {
   "cell_type": "code",
   "execution_count": 71,
   "id": "85358c91",
   "metadata": {},
   "outputs": [],
   "source": [
    "#initial ImageDataGenerator\n",
    "#avioid overfitting ==>oversampling\n",
    "generator_oversample = tf.keras.preprocessing.image.ImageDataGenerator(\n",
    "    rescale=1./255, \n",
    "    zoom_range=0.1,\n",
    "    horizontal_flip=True,\n",
    "    validation_split=0.2)"
   ]
  },
  {
   "cell_type": "code",
   "execution_count": 72,
   "id": "6ec36ffb",
   "metadata": {},
   "outputs": [
    {
     "name": "stdout",
     "output_type": "stream",
     "text": [
      "Found 16507 images belonging to 120 classes.\n",
      "Found 4072 images belonging to 120 classes.\n"
     ]
    }
   ],
   "source": [
    "train_dataset = generator_oversample.flow_from_directory(\n",
    "    image_dir,\n",
    "    shuffle = True,\n",
    "    target_size=(height, width),\n",
    "    batch_size=batch_size,\n",
    "    subset=\"training\")\n",
    "val_dataset = generator_oversample.flow_from_directory(\n",
    "    image_dir,\n",
    "    shuffle = True,\n",
    "    subset=\"validation\",\n",
    "    target_size=(height, width),\n",
    "    batch_size=batch_size)"
   ]
  },
  {
   "cell_type": "code",
   "execution_count": 73,
   "id": "d1a56b12",
   "metadata": {},
   "outputs": [],
   "source": [
    "MobileNetV2_model = tf.keras.applications.MobileNetV2(input_shape=(width,height,3),\n",
    "                                              include_top=False, \n",
    "                                              weights='imagenet')"
   ]
  },
  {
   "cell_type": "code",
   "execution_count": 74,
   "id": "563f84e1",
   "metadata": {},
   "outputs": [],
   "source": [
    "MobileNetV2_model.trainable = False "
   ]
  },
  {
   "cell_type": "code",
   "execution_count": 75,
   "id": "cf946c03",
   "metadata": {},
   "outputs": [],
   "source": [
    "#The number of classes\n",
    "num = 120 \n",
    "model = Sequential([\n",
    "    MobileNetV2_model,\n",
    "    layers.Conv2D(32,(5,5),padding=\"same\",activation='relu'),\n",
    "    layers.MaxPooling2D(),\n",
    "    layers.Conv2D(64,(5,5),padding=\"same\",activation='relu'),\n",
    "    layers.MaxPooling2D(),\n",
    "    layers.Dropout(0.2), \n",
    "    layers.Flatten(), \n",
    "    layers.Dense(num, activation='softmax')\n",
    "])"
   ]
  },
  {
   "cell_type": "code",
   "execution_count": 76,
   "id": "a558efa7",
   "metadata": {},
   "outputs": [],
   "source": [
    "model.compile(optimizer='adam',\n",
    "              loss='categorical_crossentropy',\n",
    "              metrics=['accuracy'])"
   ]
  },
  {
   "cell_type": "code",
   "execution_count": 77,
   "id": "c73d7efd",
   "metadata": {},
   "outputs": [
    {
     "name": "stdout",
     "output_type": "stream",
     "text": [
      "Model: \"sequential_5\"\n",
      "_________________________________________________________________\n",
      " Layer (type)                Output Shape              Param #   \n",
      "=================================================================\n",
      " mobilenetv2_1.00_224 (Funct  (None, 7, 7, 1280)       2257984   \n",
      " ional)                                                          \n",
      "                                                                 \n",
      " conv2d_14 (Conv2D)          (None, 7, 7, 32)          1024032   \n",
      "                                                                 \n",
      " max_pooling2d_14 (MaxPoolin  (None, 3, 3, 32)         0         \n",
      " g2D)                                                            \n",
      "                                                                 \n",
      " conv2d_15 (Conv2D)          (None, 3, 3, 64)          51264     \n",
      "                                                                 \n",
      " max_pooling2d_15 (MaxPoolin  (None, 1, 1, 64)         0         \n",
      " g2D)                                                            \n",
      "                                                                 \n",
      " dropout_5 (Dropout)         (None, 1, 1, 64)          0         \n",
      "                                                                 \n",
      " flatten_5 (Flatten)         (None, 64)                0         \n",
      "                                                                 \n",
      " dense_5 (Dense)             (None, 120)               7800      \n",
      "                                                                 \n",
      "=================================================================\n",
      "Total params: 3,341,080\n",
      "Trainable params: 1,083,096\n",
      "Non-trainable params: 2,257,984\n",
      "_________________________________________________________________\n"
     ]
    }
   ],
   "source": [
    "model.summary()"
   ]
  },
  {
   "cell_type": "code",
   "execution_count": 78,
   "id": "fc748655",
   "metadata": {},
   "outputs": [
    {
     "name": "stdout",
     "output_type": "stream",
     "text": [
      "Epoch 1/10\n",
      "258/258 [==============================] - 382s 1s/step - loss: 3.1146 - accuracy: 0.2719 - val_loss: 1.8115 - val_accuracy: 0.5108\n",
      "Epoch 2/10\n",
      "258/258 [==============================] - 393s 2s/step - loss: 1.7692 - accuracy: 0.5186 - val_loss: 1.5087 - val_accuracy: 0.5747\n",
      "Epoch 3/10\n",
      "258/258 [==============================] - 403s 2s/step - loss: 1.4424 - accuracy: 0.6002 - val_loss: 1.4009 - val_accuracy: 0.6211\n",
      "Epoch 4/10\n",
      "258/258 [==============================] - 397s 2s/step - loss: 1.2985 - accuracy: 0.6308 - val_loss: 1.3507 - val_accuracy: 0.6321\n",
      "Epoch 5/10\n",
      "258/258 [==============================] - 399s 2s/step - loss: 1.2083 - accuracy: 0.6555 - val_loss: 1.3634 - val_accuracy: 0.6233\n",
      "Epoch 6/10\n",
      "258/258 [==============================] - 396s 2s/step - loss: 1.1290 - accuracy: 0.6748 - val_loss: 1.3632 - val_accuracy: 0.6289\n",
      "Epoch 7/10\n",
      "258/258 [==============================] - 398s 2s/step - loss: 1.0557 - accuracy: 0.6915 - val_loss: 1.3659 - val_accuracy: 0.6314\n",
      "Epoch 8/10\n",
      "258/258 [==============================] - 406s 2s/step - loss: 1.0216 - accuracy: 0.6988 - val_loss: 1.3464 - val_accuracy: 0.6429\n",
      "Epoch 9/10\n",
      "258/258 [==============================] - 395s 2s/step - loss: 0.9801 - accuracy: 0.7107 - val_loss: 1.4125 - val_accuracy: 0.6351\n",
      "Epoch 10/10\n",
      "258/258 [==============================] - 410s 2s/step - loss: 0.9376 - accuracy: 0.7225 - val_loss: 1.3909 - val_accuracy: 0.6338\n"
     ]
    }
   ],
   "source": [
    "epochs=10\n",
    "base_model = model.fit(\n",
    "  train_dataset,\n",
    "  validation_data=val_dataset,\n",
    "  epochs=epochs\n",
    ")"
   ]
  },
  {
   "cell_type": "code",
   "execution_count": 66,
   "id": "19d36f53",
   "metadata": {},
   "outputs": [
    {
     "data": {
      "image/png": "[encoded data removed]",
      "text/plain": [
       "<Figure size 1152x576 with 2 Axes>"
      ]
     },
     "metadata": {
      "needs_background": "light"
     },
     "output_type": "display_data"
    }
   ],
   "source": [
    "train_acc = base_model.history['accuracy']\n",
    "val_acc = base_model.history['val_accuracy']\n",
    "\n",
    "train_loss = base_model.history['loss']\n",
    "val_loss = base_model.history['val_loss']\n",
    "\n",
    "range_epochs = range(epochs)\n",
    "\n",
    "plt.figure(figsize=(16, 8))\n",
    "plt.subplot(1, 2, 1)\n",
    "plt.plot(range_epochs, train_acc, label='Training Accuracy')\n",
    "plt.plot(range_epochs, val_acc, label='Validation Accuracy')\n",
    "plt.legend()\n",
    "plt.title('Accuracy')\n",
    "\n",
    "plt.subplot(1, 2, 2)\n",
    "plt.plot(range_epochs, train_loss, label='Training Loss')\n",
    "plt.plot(range_epochs, val_loss, label='Validation Loss')\n",
    "plt.legend()\n",
    "plt.title('Loss')\n",
    "plt.show()"
   ]
  },
  {
   "cell_type": "code",
   "execution_count": 89,
   "id": "b5da639c",
   "metadata": {},
   "outputs": [
    {
     "name": "stderr",
     "output_type": "stream",
     "text": [
      "WARNING:absl:Function `_wrapped_model` contains input name(s) mobilenetv2_1.00_224_input with unsupported characters which will be renamed to mobilenetv2_1_00_224_input in the SavedModel.\n"
     ]
    },
    {
     "name": "stdout",
     "output_type": "stream",
     "text": [
      "INFO:tensorflow:Assets written to: D:\\Downloads\\assets\n"
     ]
    },
    {
     "name": "stderr",
     "output_type": "stream",
     "text": [
      "INFO:tensorflow:Assets written to: D:\\Downloads\\assets\n",
      "WARNING:absl:Buffer deduplication procedure will be skipped when flatbuffer library is not properly loaded\n"
     ]
    }
   ],
   "source": [
    "#get tflite file\n",
    "model_dir = 'D:\\Downloads'\n",
    "tf.saved_model.save(model, model_dir)\n",
    "\n",
    "tfConverter = tf.lite.TFLiteConverter.from_saved_model(model_dir)\n",
    "tflite_model = tfConverter.convert()\n",
    "\n",
    "with open('model.tflite', 'wb') as f:\n",
    "    f.write(tflite_model)"
   ]
  },
  {
   "cell_type": "code",
   "execution_count": 50,
   "id": "efacc595",
   "metadata": {},
   "outputs": [
    {
     "name": "stdout",
     "output_type": "stream",
     "text": [
      "{'n02085620-Chihuahua': 0, 'n02085782-Japanese_spaniel': 1, 'n02085936-Maltese_dog': 2, 'n02086079-Pekinese': 3, 'n02086240-Shih-Tzu': 4, 'n02086646-Blenheim_spaniel': 5, 'n02086910-papillon': 6, 'n02087046-toy_terrier': 7, 'n02087394-Rhodesian_ridgeback': 8, 'n02088094-Afghan_hound': 9, 'n02088238-basset': 10, 'n02088364-beagle': 11, 'n02088466-bloodhound': 12, 'n02088632-bluetick': 13, 'n02089078-black-and-tan_coonhound': 14, 'n02089867-Walker_hound': 15, 'n02089973-English_foxhound': 16, 'n02090379-redbone': 17, 'n02090622-borzoi': 18, 'n02090721-Irish_wolfhound': 19, 'n02091032-Italian_greyhound': 20, 'n02091134-whippet': 21, 'n02091244-Ibizan_hound': 22, 'n02091467-Norwegian_elkhound': 23, 'n02091635-otterhound': 24, 'n02091831-Saluki': 25, 'n02092002-Scottish_deerhound': 26, 'n02092339-Weimaraner': 27, 'n02093256-Staffordshire_bullterrier': 28, 'n02093428-American_Staffordshire_terrier': 29, 'n02093647-Bedlington_terrier': 30, 'n02093754-Border_terrier': 31, 'n02093859-Kerry_blue_terrier': 32, 'n02093991-Irish_terrier': 33, 'n02094114-Norfolk_terrier': 34, 'n02094258-Norwich_terrier': 35, 'n02094433-Yorkshire_terrier': 36, 'n02095314-wire-haired_fox_terrier': 37, 'n02095570-Lakeland_terrier': 38, 'n02095889-Sealyham_terrier': 39, 'n02096051-Airedale': 40, 'n02096177-cairn': 41, 'n02096294-Australian_terrier': 42, 'n02096437-Dandie_Dinmont': 43, 'n02096585-Boston_bull': 44, 'n02097047-miniature_schnauzer': 45, 'n02097130-giant_schnauzer': 46, 'n02097209-standard_schnauzer': 47, 'n02097298-Scotch_terrier': 48, 'n02097474-Tibetan_terrier': 49, 'n02097658-silky_terrier': 50, 'n02098105-soft-coated_wheaten_terrier': 51, 'n02098286-West_Highland_white_terrier': 52, 'n02098413-Lhasa': 53, 'n02099267-flat-coated_retriever': 54, 'n02099429-curly-coated_retriever': 55, 'n02099601-golden_retriever': 56, 'n02099712-Labrador_retriever': 57, 'n02099849-Chesapeake_Bay_retriever': 58, 'n02100236-German_short-haired_pointer': 59, 'n02100583-vizsla': 60, 'n02100735-English_setter': 61, 'n02100877-Irish_setter': 62, 'n02101006-Gordon_setter': 63, 'n02101388-Brittany_spaniel': 64, 'n02101556-clumber': 65, 'n02102040-English_springer': 66, 'n02102177-Welsh_springer_spaniel': 67, 'n02102318-cocker_spaniel': 68, 'n02102480-Sussex_spaniel': 69, 'n02102973-Irish_water_spaniel': 70, 'n02104029-kuvasz': 71, 'n02104365-schipperke': 72, 'n02105056-groenendael': 73, 'n02105162-malinois': 74, 'n02105251-briard': 75, 'n02105412-kelpie': 76, 'n02105505-komondor': 77, 'n02105641-Old_English_sheepdog': 78, 'n02105855-Shetland_sheepdog': 79, 'n02106030-collie': 80, 'n02106166-Border_collie': 81, 'n02106382-Bouvier_des_Flandres': 82, 'n02106550-Rottweiler': 83, 'n02106662-German_shepherd': 84, 'n02107142-Doberman': 85, 'n02107312-miniature_pinscher': 86, 'n02107574-Greater_Swiss_Mountain_dog': 87, 'n02107683-Bernese_mountain_dog': 88, 'n02107908-Appenzeller': 89, 'n02108000-EntleBucher': 90, 'n02108089-boxer': 91, 'n02108422-bull_mastiff': 92, 'n02108551-Tibetan_mastiff': 93, 'n02108915-French_bulldog': 94, 'n02109047-Great_Dane': 95, 'n02109525-Saint_Bernard': 96, 'n02109961-Eskimo_dog': 97, 'n02110063-malamute': 98, 'n02110185-Siberian_husky': 99, 'n02110627-affenpinscher': 100, 'n02110806-basenji': 101, 'n02110958-pug': 102, 'n02111129-Leonberg': 103, 'n02111277-Newfoundland': 104, 'n02111500-Great_Pyrenees': 105, 'n02111889-Samoyed': 106, 'n02112018-Pomeranian': 107, 'n02112137-chow': 108, 'n02112350-keeshond': 109, 'n02112706-Brabancon_griffon': 110, 'n02113023-Pembroke': 111, 'n02113186-Cardigan': 112, 'n02113624-toy_poodle': 113, 'n02113712-miniature_poodle': 114, 'n02113799-standard_poodle': 115, 'n02113978-Mexican_hairless': 116, 'n02115641-dingo': 117, 'n02115913-dhole': 118, 'n02116738-African_hunting_dog': 119}\n"
     ]
    }
   ],
   "source": [
    "#get labels.txt\n",
    "print (train_dataset.class_indices)\n",
    "\n",
    "labels = '\\n'.join(sorted(train_dataset.class_indices.keys()))\n",
    "\n",
    "with open('D:\\Downloads\\labels.txt', 'w') as f:\n",
    "    f.write(labels)"
   ]
  }
 ],
 "metadata": {
  "kernelspec": {
   "display_name": "Python 3",
   "language": "python",
   "name": "python3"
  },
  "language_info": {
   "codemirror_mode": {
    "name": "ipython",
    "version": 3
   },
   "file_extension": ".py",
   "mimetype": "text/x-python",
   "name": "python",
   "nbconvert_exporter": "python",
   "pygments_lexer": "ipython3",
   "version": "3.8.8"
  }
 },
 "nbformat": 4,
 "nbformat_minor": 5
}
