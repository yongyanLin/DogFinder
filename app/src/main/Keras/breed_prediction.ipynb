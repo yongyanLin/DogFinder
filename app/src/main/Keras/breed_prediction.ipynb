{
 "cells": [
  {
   "cell_type": "code",
   "execution_count": 1,
   "id": "99e5960d",
   "metadata": {},
   "outputs": [],
   "source": [
    "import tensorflow as tf\n",
    "assert tf.__version__\n",
    "import os\n",
    "import numpy as np\n",
    "import matplotlib.pyplot as plt\n",
    "import PIL\n",
    "from pathlib import Path\n",
    "from PIL import UnidentifiedImageError\n",
    "from tensorflow.keras import layers\n",
    "from tensorflow.keras.models import Sequential\n",
    "from tensorflow.keras import optimizers\n",
    "from tensorflow.keras import losses"
   ]
  },
  {
   "cell_type": "code",
   "execution_count": 2,
   "id": "cf1e4981",
   "metadata": {},
   "outputs": [],
   "source": [
    "#split the Standford dog dataset into train and test set\n",
    "#this dataset download from https://www.kaggle.com/carlosmiao/dogbreedidentification based on Stanford Dataset\n",
    "train_image_dir = 'D:\\\\Downloads\\\\train'\n",
    "test_image_dir = 'D:\\\\Downloads\\\\test'"
   ]
  },
  {
   "cell_type": "code",
   "execution_count": 3,
   "id": "a14d4910",
   "metadata": {
    "scrolled": true
   },
   "outputs": [],
   "source": [
    "import pandas as pd\n",
    "labels = pd.read_csv('D:\\\\Downloads\\\\labels.csv', index_col = 'id')"
   ]
  },
  {
   "cell_type": "code",
   "execution_count": 4,
   "id": "96293033",
   "metadata": {
    "scrolled": true
   },
   "outputs": [
    {
     "data": {
      "text/html": [
       "<div>\n",
       "<style scoped>\n",
       "    .dataframe tbody tr th:only-of-type {\n",
       "        vertical-align: middle;\n",
       "    }\n",
       "\n",
       "    .dataframe tbody tr th {\n",
       "        vertical-align: top;\n",
       "    }\n",
       "\n",
       "    .dataframe thead th {\n",
       "        text-align: right;\n",
       "    }\n",
       "</style>\n",
       "<table border=\"1\" class=\"dataframe\">\n",
       "  <thead>\n",
       "    <tr style=\"text-align: right;\">\n",
       "      <th></th>\n",
       "      <th>breed</th>\n",
       "    </tr>\n",
       "    <tr>\n",
       "      <th>id</th>\n",
       "      <th></th>\n",
       "    </tr>\n",
       "  </thead>\n",
       "  <tbody>\n",
       "    <tr>\n",
       "      <th>000bec180eb18c7604dcecc8fe0dba07</th>\n",
       "      <td>boston_bull</td>\n",
       "    </tr>\n",
       "    <tr>\n",
       "      <th>001513dfcb2ffafc82cccf4d8bbaba97</th>\n",
       "      <td>dingo</td>\n",
       "    </tr>\n",
       "    <tr>\n",
       "      <th>001cdf01b096e06d78e9e5112d419397</th>\n",
       "      <td>pekinese</td>\n",
       "    </tr>\n",
       "    <tr>\n",
       "      <th>00214f311d5d2247d5dfe4fe24b2303d</th>\n",
       "      <td>bluetick</td>\n",
       "    </tr>\n",
       "    <tr>\n",
       "      <th>0021f9ceb3235effd7fcde7f7538ed62</th>\n",
       "      <td>golden_retriever</td>\n",
       "    </tr>\n",
       "  </tbody>\n",
       "</table>\n",
       "</div>"
      ],
      "text/plain": [
       "                                             breed\n",
       "id                                                \n",
       "000bec180eb18c7604dcecc8fe0dba07       boston_bull\n",
       "001513dfcb2ffafc82cccf4d8bbaba97             dingo\n",
       "001cdf01b096e06d78e9e5112d419397          pekinese\n",
       "00214f311d5d2247d5dfe4fe24b2303d          bluetick\n",
       "0021f9ceb3235effd7fcde7f7538ed62  golden_retriever"
      ]
     },
     "execution_count": 4,
     "metadata": {},
     "output_type": "execute_result"
    }
   ],
   "source": [
    "labels.head()"
   ]
  },
  {
   "cell_type": "code",
   "execution_count": 5,
   "id": "648c5d39",
   "metadata": {},
   "outputs": [],
   "source": [
    "classes = labels.breed.unique()"
   ]
  },
  {
   "cell_type": "code",
   "execution_count": 6,
   "id": "84bb62d9",
   "metadata": {},
   "outputs": [],
   "source": [
    "#put image with same label in one directory\n",
    "def create_dir(path):\n",
    "    if os.path.exists(path) != True:\n",
    "        os.makedirs(path)"
   ]
  },
  {
   "cell_type": "code",
   "execution_count": 7,
   "id": "e4c377c1",
   "metadata": {},
   "outputs": [],
   "source": [
    "train_path = create_dir(\"D:\\\\Downloads\\\\train_dataset\")\n",
    "test_path = create_dir(\"D:\\\\Downloads\\\\test_dataset\")"
   ]
  },
  {
   "cell_type": "code",
   "execution_count": 8,
   "id": "8bed454b",
   "metadata": {},
   "outputs": [],
   "source": [
    "import shutil\n",
    "for breed in classes:\n",
    "    class_path = \"D:\\\\Downloads\\\\train_dataset\\\\\"+breed\n",
    "    create_dir(class_path)\n",
    "    # copy images \n",
    "    images = labels[labels.breed == breed].index\n",
    "    for image in images:\n",
    "        source = train_image_dir+'\\\\'+f'{image}.jpg'\n",
    "        target = class_path+'\\\\'+f'{image}.jpg'                            \n",
    "        shutil.copyfile(source,target)"
   ]
  },
  {
   "cell_type": "code",
   "execution_count": 9,
   "id": "bc702831",
   "metadata": {},
   "outputs": [],
   "source": [
    "generator = tf.keras.preprocessing.image.ImageDataGenerator(\n",
    "    rescale=1./255,\n",
    "    zoom_range=0.1,\n",
    "    width_shift_range = 0.1,\n",
    "    height_shift_range = 0.1,\n",
    "    horizontal_flip=True,\n",
    "    validation_split=0.2)"
   ]
  },
  {
   "cell_type": "code",
   "execution_count": 10,
   "id": "2da47574",
   "metadata": {},
   "outputs": [
    {
     "name": "stdout",
     "output_type": "stream",
     "text": [
      "Found 8221 images belonging to 120 classes.\n"
     ]
    }
   ],
   "source": [
    "batch_size = 64\n",
    "height = 224\n",
    "width = 224\n",
    "train_dt = generator.flow_from_directory(\n",
    "    \"D:\\\\Downloads\\\\train_dataset\",\n",
    "    shuffle = True,\n",
    "    target_size=(height, width),\n",
    "    batch_size=batch_size,\n",
    "    subset=\"training\")"
   ]
  },
  {
   "cell_type": "code",
   "execution_count": 11,
   "id": "863cf8b7",
   "metadata": {},
   "outputs": [
    {
     "name": "stdout",
     "output_type": "stream",
     "text": [
      "Found 2001 images belonging to 120 classes.\n"
     ]
    }
   ],
   "source": [
    "val_dt = generator.flow_from_directory(\n",
    "    \"D:\\\\Downloads\\\\train_dataset\",\n",
    "    shuffle = True,\n",
    "    target_size=(height,width),\n",
    "    batch_size=batch_size,\n",
    "    subset=\"validation\"\n",
    ")"
   ]
  },
  {
   "cell_type": "code",
   "execution_count": 16,
   "id": "6c9a8d0c",
   "metadata": {},
   "outputs": [],
   "source": [
    "from tensorflow.keras.applications import xception\n",
    "from tensorflow.keras.applications import inception_v3\n",
    "from tensorflow.keras.applications import MobileNetV2\n",
    "from tensorflow.keras import layers\n",
    "from tensorflow.keras.models import Sequential\n",
    "from tensorflow.keras import optimizers\n",
    "from tensorflow.keras import losses"
   ]
  },
  {
   "cell_type": "code",
   "execution_count": 61,
   "id": "7a9064a1",
   "metadata": {},
   "outputs": [],
   "source": [
    "base_xception = xception.Xception(weights='imagenet', include_top=False, input_shape=(height,width,3))\n",
    "base_inception = inception_v3.InceptionV3(weights='imagenet', include_top=False, input_shape=(height,width,3))"
   ]
  },
  {
   "cell_type": "code",
   "execution_count": 62,
   "id": "280df136",
   "metadata": {},
   "outputs": [],
   "source": [
    "base_xception.trainable = False\n",
    "base_inception.trainable = False"
   ]
  },
  {
   "cell_type": "code",
   "execution_count": 69,
   "id": "383f5431",
   "metadata": {},
   "outputs": [],
   "source": [
    "base_xception_model = Sequential([\n",
    "    base_xception,\n",
    "    layers.GlobalAveragePooling2D(),\n",
    "    layers.Dropout(0.7),\n",
    "    layers.Dense(120, activation='softmax'),\n",
    "])"
   ]
  },
  {
   "cell_type": "code",
   "execution_count": 63,
   "id": "c8ef43b7",
   "metadata": {},
   "outputs": [],
   "source": [
    "base_inception_model = Sequential([\n",
    "    base_inception,\n",
    "    layers.GlobalAveragePooling2D(),\n",
    "    layers.Dropout(0.7),\n",
    "    layers.Dense(120, activation='softmax'),\n",
    "])"
   ]
  },
  {
   "cell_type": "code",
   "execution_count": 56,
   "id": "6153cf44",
   "metadata": {},
   "outputs": [],
   "source": [
    "epochs = 15"
   ]
  },
  {
   "cell_type": "code",
   "execution_count": 70,
   "id": "29f1eb1c",
   "metadata": {},
   "outputs": [],
   "source": [
    "base_xception_model.compile(optimizer='adam',\n",
    "                            loss='categorical_crossentropy',\n",
    "                            metrics=['accuracy'])"
   ]
  },
  {
   "cell_type": "code",
   "execution_count": 64,
   "id": "dff91262",
   "metadata": {},
   "outputs": [],
   "source": [
    "base_inception_model.compile(optimizer='adam',\n",
    "              loss='categorical_crossentropy',\n",
    "              metrics=['accuracy'])"
   ]
  },
  {
   "cell_type": "code",
   "execution_count": 65,
   "id": "f5e10bc7",
   "metadata": {},
   "outputs": [],
   "source": [
    "callback = tf.keras.callbacks.EarlyStopping(monitor='val_loss', patience=5)"
   ]
  },
  {
   "cell_type": "code",
   "execution_count": 71,
   "id": "228b7e65",
   "metadata": {},
   "outputs": [
    {
     "name": "stdout",
     "output_type": "stream",
     "text": [
      "Epoch 1/15\n",
      "129/129 [==============================] - 568s 4s/step - loss: 2.2341 - accuracy: 0.4903 - val_loss: 0.9398 - val_accuracy: 0.7541\n",
      "Epoch 2/15\n",
      "129/129 [==============================] - 584s 5s/step - loss: 0.9666 - accuracy: 0.7255 - val_loss: 0.7798 - val_accuracy: 0.7756\n",
      "Epoch 3/15\n",
      "129/129 [==============================] - 565s 4s/step - loss: 0.8194 - accuracy: 0.7602 - val_loss: 0.7527 - val_accuracy: 0.7736\n",
      "Epoch 4/15\n",
      "129/129 [==============================] - 585s 5s/step - loss: 0.7484 - accuracy: 0.7734 - val_loss: 0.7452 - val_accuracy: 0.7791\n",
      "Epoch 5/15\n",
      "129/129 [==============================] - 10579s 83s/step - loss: 0.7156 - accuracy: 0.7853 - val_loss: 0.7272 - val_accuracy: 0.7841\n",
      "Epoch 6/15\n",
      "129/129 [==============================] - 534s 4s/step - loss: 0.6757 - accuracy: 0.7942 - val_loss: 0.7399 - val_accuracy: 0.7841\n",
      "Epoch 7/15\n",
      "129/129 [==============================] - 3416s 27s/step - loss: 0.6630 - accuracy: 0.7944 - val_loss: 0.7536 - val_accuracy: 0.7856\n",
      "Epoch 8/15\n",
      "129/129 [==============================] - 549s 4s/step - loss: 0.6095 - accuracy: 0.8093 - val_loss: 0.7558 - val_accuracy: 0.7771\n",
      "Epoch 9/15\n",
      "129/129 [==============================] - 562s 4s/step - loss: 0.5911 - accuracy: 0.8133 - val_loss: 0.7518 - val_accuracy: 0.7751\n",
      "Epoch 10/15\n",
      "129/129 [==============================] - 560s 4s/step - loss: 0.5764 - accuracy: 0.8178 - val_loss: 0.7754 - val_accuracy: 0.7751\n"
     ]
    }
   ],
   "source": [
    "history_xception = base_xception_model.fit(\n",
    "    train_dt,\n",
    "    validation_data=val_dt,\n",
    "    epochs=epochs,\n",
    "    callbacks = [callback],\n",
    ")"
   ]
  },
  {
   "cell_type": "code",
   "execution_count": 73,
   "id": "2db03cbe",
   "metadata": {},
   "outputs": [
    {
     "data": {
      "image/png": "[encoded data removed]",
      "text/plain": [
       "<Figure size 1152x576 with 2 Axes>"
      ]
     },
     "metadata": {
      "needs_background": "light"
     },
     "output_type": "display_data"
    }
   ],
   "source": [
    "train_acc = history_xception.history['accuracy']\n",
    "val_acc = history_xception.history['val_accuracy']\n",
    "\n",
    "train_loss = history_xception.history['loss']\n",
    "val_loss = history_xception.history['val_loss']\n",
    "\n",
    "range_epochs = range(10)\n",
    "\n",
    "plt.figure(figsize=(16, 8))\n",
    "plt.subplot(1, 2, 1)\n",
    "plt.plot(range_epochs, train_acc, label='Training Accuracy')\n",
    "plt.plot(range_epochs, val_acc, label='Validation Accuracy')\n",
    "plt.legend()\n",
    "plt.title('Accuracy')\n",
    "\n",
    "plt.subplot(1, 2, 2)\n",
    "plt.plot(range_epochs, train_loss, label='Training Loss')\n",
    "plt.plot(range_epochs, val_loss, label='Validation Loss')\n",
    "plt.legend()\n",
    "plt.title('Loss')\n",
    "plt.show()"
   ]
  },
  {
   "cell_type": "code",
   "execution_count": 66,
   "id": "1bb4fd8f",
   "metadata": {},
   "outputs": [
    {
     "name": "stdout",
     "output_type": "stream",
     "text": [
      "Epoch 1/15\n",
      "129/129 [==============================] - 288s 2s/step - loss: 2.7542 - accuracy: 0.4136 - val_loss: 0.8632 - val_accuracy: 0.7471\n",
      "Epoch 2/15\n",
      "129/129 [==============================] - 305s 2s/step - loss: 1.2582 - accuracy: 0.6683 - val_loss: 0.8679 - val_accuracy: 0.7401\n",
      "Epoch 3/15\n",
      "129/129 [==============================] - 310s 2s/step - loss: 1.0943 - accuracy: 0.7105 - val_loss: 0.8468 - val_accuracy: 0.7596\n",
      "Epoch 4/15\n",
      "129/129 [==============================] - 311s 2s/step - loss: 0.9973 - accuracy: 0.7356 - val_loss: 0.8593 - val_accuracy: 0.7676\n",
      "Epoch 5/15\n",
      "129/129 [==============================] - 323s 3s/step - loss: 0.9672 - accuracy: 0.7480 - val_loss: 0.8647 - val_accuracy: 0.7671\n",
      "Epoch 6/15\n",
      "129/129 [==============================] - 310s 2s/step - loss: 0.9334 - accuracy: 0.7511 - val_loss: 0.8733 - val_accuracy: 0.7621\n",
      "Epoch 7/15\n",
      "129/129 [==============================] - 307s 2s/step - loss: 0.8654 - accuracy: 0.7658 - val_loss: 0.9142 - val_accuracy: 0.7671\n",
      "Epoch 8/15\n",
      "129/129 [==============================] - 308s 2s/step - loss: 0.8666 - accuracy: 0.7714 - val_loss: 0.8916 - val_accuracy: 0.7606\n"
     ]
    }
   ],
   "source": [
    "history_inception_model = base_inception_model.fit(\n",
    "    train_dt,\n",
    "    validation_data=val_dt,\n",
    "    epochs=epochs,\n",
    "    callbacks = [callback],\n",
    ")"
   ]
  },
  {
   "cell_type": "code",
   "execution_count": 68,
   "id": "848096ad",
   "metadata": {},
   "outputs": [
    {
     "data": {
      "image/png": "[encoded data removed]",
      "text/plain": [
       "<Figure size 1152x576 with 2 Axes>"
      ]
     },
     "metadata": {
      "needs_background": "light"
     },
     "output_type": "display_data"
    }
   ],
   "source": [
    "train_acc = history_inception_model.history['accuracy']\n",
    "val_acc = history_inception_model.history['val_accuracy']\n",
    "\n",
    "train_loss = history_inception_model.history['loss']\n",
    "val_loss = history_inception_model.history['val_loss']\n",
    "\n",
    "range_epochs = range(8)\n",
    "\n",
    "plt.figure(figsize=(16, 8))\n",
    "plt.subplot(1, 2, 1)\n",
    "plt.plot(range_epochs, train_acc, label='Training Accuracy')\n",
    "plt.plot(range_epochs, val_acc, label='Validation Accuracy')\n",
    "plt.legend()\n",
    "plt.title('Accuracy')\n",
    "\n",
    "plt.subplot(1, 2, 2)\n",
    "plt.plot(range_epochs, train_loss, label='Training Loss')\n",
    "plt.plot(range_epochs, val_loss, label='Validation Loss')\n",
    "plt.legend()\n",
    "plt.title('Loss')\n",
    "plt.show()"
   ]
  },
  {
   "cell_type": "code",
   "execution_count": 58,
   "id": "7850977f",
   "metadata": {},
   "outputs": [
    {
     "name": "stdout",
     "output_type": "stream",
     "text": [
      "Epoch 1/15\n",
      "129/129 [==============================] - 167s 1s/step - loss: 3.6780 - accuracy: 0.2084 - val_loss: 1.5935 - val_accuracy: 0.6032\n",
      "Epoch 2/15\n",
      "129/129 [==============================] - 188s 1s/step - loss: 1.9094 - accuracy: 0.4835 - val_loss: 1.1855 - val_accuracy: 0.6712\n",
      "Epoch 3/15\n",
      "129/129 [==============================] - 182s 1s/step - loss: 1.5015 - accuracy: 0.5755 - val_loss: 1.0612 - val_accuracy: 0.6927\n",
      "Epoch 4/15\n",
      "129/129 [==============================] - 179s 1s/step - loss: 1.3105 - accuracy: 0.6216 - val_loss: 0.9962 - val_accuracy: 0.7081\n",
      "Epoch 5/15\n",
      "129/129 [==============================] - 177s 1s/step - loss: 1.2008 - accuracy: 0.6508 - val_loss: 0.9801 - val_accuracy: 0.7091\n",
      "Epoch 6/15\n",
      "129/129 [==============================] - 176s 1s/step - loss: 1.1382 - accuracy: 0.6670 - val_loss: 0.9597 - val_accuracy: 0.7156\n",
      "Epoch 7/15\n",
      "129/129 [==============================] - 182s 1s/step - loss: 1.0646 - accuracy: 0.6770 - val_loss: 0.9644 - val_accuracy: 0.7101\n",
      "Epoch 8/15\n",
      "129/129 [==============================] - 179s 1s/step - loss: 0.9838 - accuracy: 0.7096 - val_loss: 0.9294 - val_accuracy: 0.7181\n",
      "Epoch 9/15\n",
      "129/129 [==============================] - 177s 1s/step - loss: 0.9581 - accuracy: 0.7124 - val_loss: 0.9480 - val_accuracy: 0.7171\n",
      "Epoch 10/15\n",
      "129/129 [==============================] - 181s 1s/step - loss: 0.9437 - accuracy: 0.7182 - val_loss: 0.9437 - val_accuracy: 0.7146\n",
      "Epoch 11/15\n",
      "129/129 [==============================] - 190s 1s/step - loss: 0.8789 - accuracy: 0.7346 - val_loss: 0.9476 - val_accuracy: 0.7286\n",
      "Epoch 12/15\n",
      "129/129 [==============================] - 180s 1s/step - loss: 0.8809 - accuracy: 0.7347 - val_loss: 0.9245 - val_accuracy: 0.7276\n",
      "Epoch 13/15\n",
      "129/129 [==============================] - 186s 1s/step - loss: 0.8620 - accuracy: 0.7360 - val_loss: 0.9155 - val_accuracy: 0.7351\n",
      "Epoch 14/15\n",
      "129/129 [==============================] - 177s 1s/step - loss: 0.8543 - accuracy: 0.7371 - val_loss: 0.9161 - val_accuracy: 0.7316\n",
      "Epoch 15/15\n",
      "129/129 [==============================] - 179s 1s/step - loss: 0.8398 - accuracy: 0.7432 - val_loss: 0.9359 - val_accuracy: 0.7261\n"
     ]
    }
   ],
   "source": [
    "history_MobileNetV2 = base_MobileNetV2_model.fit(\n",
    "    train_dt,\n",
    "    validation_data=val_dt,\n",
    "    epochs=epochs,\n",
    "    callbacks = [callback],\n",
    ")"
   ]
  },
  {
   "cell_type": "code",
   "execution_count": 77,
   "id": "67f98fa4",
   "metadata": {},
   "outputs": [
    {
     "name": "stdout",
     "output_type": "stream",
     "text": [
      "{'affenpinscher': 0, 'afghan_hound': 1, 'african_hunting_dog': 2, 'airedale': 3, 'american_staffordshire_terrier': 4, 'appenzeller': 5, 'australian_terrier': 6, 'basenji': 7, 'basset': 8, 'beagle': 9, 'bedlington_terrier': 10, 'bernese_mountain_dog': 11, 'black-and-tan_coonhound': 12, 'blenheim_spaniel': 13, 'bloodhound': 14, 'bluetick': 15, 'border_collie': 16, 'border_terrier': 17, 'borzoi': 18, 'boston_bull': 19, 'bouvier_des_flandres': 20, 'boxer': 21, 'brabancon_griffon': 22, 'briard': 23, 'brittany_spaniel': 24, 'bull_mastiff': 25, 'cairn': 26, 'cardigan': 27, 'chesapeake_bay_retriever': 28, 'chihuahua': 29, 'chow': 30, 'clumber': 31, 'cocker_spaniel': 32, 'collie': 33, 'curly-coated_retriever': 34, 'dandie_dinmont': 35, 'dhole': 36, 'dingo': 37, 'doberman': 38, 'english_foxhound': 39, 'english_setter': 40, 'english_springer': 41, 'entlebucher': 42, 'eskimo_dog': 43, 'flat-coated_retriever': 44, 'french_bulldog': 45, 'german_shepherd': 46, 'german_short-haired_pointer': 47, 'giant_schnauzer': 48, 'golden_retriever': 49, 'gordon_setter': 50, 'great_dane': 51, 'great_pyrenees': 52, 'greater_swiss_mountain_dog': 53, 'groenendael': 54, 'ibizan_hound': 55, 'irish_setter': 56, 'irish_terrier': 57, 'irish_water_spaniel': 58, 'irish_wolfhound': 59, 'italian_greyhound': 60, 'japanese_spaniel': 61, 'keeshond': 62, 'kelpie': 63, 'kerry_blue_terrier': 64, 'komondor': 65, 'kuvasz': 66, 'labrador_retriever': 67, 'lakeland_terrier': 68, 'leonberg': 69, 'lhasa': 70, 'malamute': 71, 'malinois': 72, 'maltese_dog': 73, 'mexican_hairless': 74, 'miniature_pinscher': 75, 'miniature_poodle': 76, 'miniature_schnauzer': 77, 'newfoundland': 78, 'norfolk_terrier': 79, 'norwegian_elkhound': 80, 'norwich_terrier': 81, 'old_english_sheepdog': 82, 'otterhound': 83, 'papillon': 84, 'pekinese': 85, 'pembroke': 86, 'pomeranian': 87, 'pug': 88, 'redbone': 89, 'rhodesian_ridgeback': 90, 'rottweiler': 91, 'saint_bernard': 92, 'saluki': 93, 'samoyed': 94, 'schipperke': 95, 'scotch_terrier': 96, 'scottish_deerhound': 97, 'sealyham_terrier': 98, 'shetland_sheepdog': 99, 'shih-tzu': 100, 'siberian_husky': 101, 'silky_terrier': 102, 'soft-coated_wheaten_terrier': 103, 'staffordshire_bullterrier': 104, 'standard_poodle': 105, 'standard_schnauzer': 106, 'sussex_spaniel': 107, 'tibetan_mastiff': 108, 'tibetan_terrier': 109, 'toy_poodle': 110, 'toy_terrier': 111, 'vizsla': 112, 'walker_hound': 113, 'weimaraner': 114, 'welsh_springer_spaniel': 115, 'west_highland_white_terrier': 116, 'whippet': 117, 'wire-haired_fox_terrier': 118, 'yorkshire_terrier': 119}\n"
     ]
    }
   ],
   "source": [
    "#expor labels.txt\n",
    "print (train_dt.class_indices)\n",
    "\n",
    "labels = '\\n'.join(sorted(train_dt.class_indices.keys()))\n",
    "\n",
    "with open('D:\\Downloads\\labels.txt', 'w') as f:\n",
    "    f.write(labels)"
   ]
  },
  {
   "cell_type": "code",
   "execution_count": 78,
   "id": "e59dca7c",
   "metadata": {},
   "outputs": [
    {
     "name": "stdout",
     "output_type": "stream",
     "text": [
      "INFO:tensorflow:Assets written to: D:\\Downloads\\assets\n"
     ]
    },
    {
     "name": "stderr",
     "output_type": "stream",
     "text": [
      "WARNING:absl:Buffer deduplication procedure will be skipped when flatbuffer library is not properly loaded\n"
     ]
    }
   ],
   "source": [
    "#choose xception\n",
    "model_dir = 'D:\\Downloads'\n",
    "tf.saved_model.save(base_xception_model, model_dir)\n",
    "\n",
    "tfConverter = tf.lite.TFLiteConverter.from_saved_model(model_dir)\n",
    "tflite_model = tfConverter.convert()\n",
    "\n",
    "with open('model.tflite', 'wb') as f:\n",
    "    f.write(tflite_model)"
   ]
  },
  {
   "cell_type": "code",
   "execution_count": null,
   "id": "9068c458",
   "metadata": {},
   "outputs": [],
   "source": []
  }
 ],
 "metadata": {
  "kernelspec": {
   "display_name": "Python 3",
   "language": "python",
   "name": "python3"
  },
  "language_info": {
   "codemirror_mode": {
    "name": "ipython",
    "version": 3
   },
   "file_extension": ".py",
   "mimetype": "text/x-python",
   "name": "python",
   "nbconvert_exporter": "python",
   "pygments_lexer": "ipython3",
   "version": "3.8.8"
  }
 },
 "nbformat": 4,
 "nbformat_minor": 5
}
