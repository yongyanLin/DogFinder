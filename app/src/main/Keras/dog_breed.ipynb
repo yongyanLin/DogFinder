{
 "cells": [
  {
   "cell_type": "code",
   "execution_count": 1,
   "id": "99e5960d",
   "metadata": {},
   "outputs": [],
   "source": [
    "import tensorflow as tf\n",
    "assert tf.__version__\n",
    "import os\n",
    "import numpy as np\n",
    "import matplotlib.pyplot as plt\n",
    "import PIL\n",
    "from pathlib import Path\n",
    "from PIL import UnidentifiedImageError\n",
    "from tensorflow.keras import layers\n",
    "from tensorflow.keras.models import Sequential\n",
    "from tensorflow.keras import optimizers\n",
    "from tensorflow.keras import losses"
   ]
  },
  {
   "cell_type": "code",
   "execution_count": 3,
   "id": "cf1e4981",
   "metadata": {},
   "outputs": [],
   "source": [
    "#split the Standford dog dataset into train and test set\n",
    "#this dataset download from https://www.kaggle.com/carlosmiao/dogbreedidentification based on Stanford Dataset\n",
    "train_image_dir = 'D:\\\\Downloads\\\\train'\n",
    "test_image_dir = 'D:\\\\Downloads\\\\test'"
   ]
  },
  {
   "cell_type": "code",
   "execution_count": 4,
   "id": "a14d4910",
   "metadata": {
    "scrolled": true
   },
   "outputs": [],
   "source": [
    "import pandas as pd\n",
    "labels = pd.read_csv('D:\\\\Downloads\\\\labels.csv', index_col = 'id')"
   ]
  },
  {
   "cell_type": "code",
   "execution_count": 5,
   "id": "96293033",
   "metadata": {
    "scrolled": true
   },
   "outputs": [
    {
     "data": {
      "text/html": [
       "<div>\n",
       "<style scoped>\n",
       "    .dataframe tbody tr th:only-of-type {\n",
       "        vertical-align: middle;\n",
       "    }\n",
       "\n",
       "    .dataframe tbody tr th {\n",
       "        vertical-align: top;\n",
       "    }\n",
       "\n",
       "    .dataframe thead th {\n",
       "        text-align: right;\n",
       "    }\n",
       "</style>\n",
       "<table border=\"1\" class=\"dataframe\">\n",
       "  <thead>\n",
       "    <tr style=\"text-align: right;\">\n",
       "      <th></th>\n",
       "      <th>breed</th>\n",
       "    </tr>\n",
       "    <tr>\n",
       "      <th>id</th>\n",
       "      <th></th>\n",
       "    </tr>\n",
       "  </thead>\n",
       "  <tbody>\n",
       "    <tr>\n",
       "      <th>000bec180eb18c7604dcecc8fe0dba07</th>\n",
       "      <td>boston_bull</td>\n",
       "    </tr>\n",
       "    <tr>\n",
       "      <th>001513dfcb2ffafc82cccf4d8bbaba97</th>\n",
       "      <td>dingo</td>\n",
       "    </tr>\n",
       "    <tr>\n",
       "      <th>001cdf01b096e06d78e9e5112d419397</th>\n",
       "      <td>pekinese</td>\n",
       "    </tr>\n",
       "    <tr>\n",
       "      <th>00214f311d5d2247d5dfe4fe24b2303d</th>\n",
       "      <td>bluetick</td>\n",
       "    </tr>\n",
       "    <tr>\n",
       "      <th>0021f9ceb3235effd7fcde7f7538ed62</th>\n",
       "      <td>golden_retriever</td>\n",
       "    </tr>\n",
       "  </tbody>\n",
       "</table>\n",
       "</div>"
      ],
      "text/plain": [
       "                                             breed\n",
       "id                                                \n",
       "000bec180eb18c7604dcecc8fe0dba07       boston_bull\n",
       "001513dfcb2ffafc82cccf4d8bbaba97             dingo\n",
       "001cdf01b096e06d78e9e5112d419397          pekinese\n",
       "00214f311d5d2247d5dfe4fe24b2303d          bluetick\n",
       "0021f9ceb3235effd7fcde7f7538ed62  golden_retriever"
      ]
     },
     "execution_count": 5,
     "metadata": {},
     "output_type": "execute_result"
    }
   ],
   "source": [
    "labels.head()"
   ]
  },
  {
   "cell_type": "code",
   "execution_count": 6,
   "id": "648c5d39",
   "metadata": {},
   "outputs": [],
   "source": [
    "classes = labels.breed.unique()"
   ]
  },
  {
   "cell_type": "code",
   "execution_count": 7,
   "id": "84bb62d9",
   "metadata": {},
   "outputs": [],
   "source": [
    "#put image with same label in one directory\n",
    "def create_dir(path):\n",
    "    if os.path.exists(path) != True:\n",
    "        os.makedirs(path)"
   ]
  },
  {
   "cell_type": "code",
   "execution_count": 8,
   "id": "e4c377c1",
   "metadata": {},
   "outputs": [],
   "source": [
    "train_path = create_dir(\"D:\\\\Downloads\\\\train_dataset\")\n",
    "test_path = create_dir(\"D:\\\\Downloads\\\\test_dataset\")"
   ]
  },
  {
   "cell_type": "code",
   "execution_count": 8,
   "id": "8bed454b",
   "metadata": {},
   "outputs": [],
   "source": [
    "import shutil\n",
    "for breed in classes:\n",
    "    class_path = \"D:\\\\Downloads\\\\train_dataset\\\\\"+breed\n",
    "    create_dir(class_path)\n",
    "    # copy images \n",
    "    images = labels[labels.breed == breed].index\n",
    "    for image in images:\n",
    "        source = train_image_dir+'\\\\'+f'{image}.jpg'\n",
    "        target = class_path+'\\\\'+f'{image}.jpg'                            \n",
    "        shutil.copyfile(source,target)"
   ]
  },
  {
   "cell_type": "code",
   "execution_count": 9,
   "id": "bc702831",
   "metadata": {},
   "outputs": [],
   "source": [
    "generator = tf.keras.preprocessing.image.ImageDataGenerator(\n",
    "    rescale=1./255,\n",
    "    zoom_range=0.1,\n",
    "    width_shift_range = 0.1,\n",
    "    height_shift_range = 0.1,\n",
    "    horizontal_flip=True,\n",
    "    validation_split=0.2)"
   ]
  },
  {
   "cell_type": "code",
   "execution_count": 11,
   "id": "2da47574",
   "metadata": {},
   "outputs": [
    {
     "name": "stdout",
     "output_type": "stream",
     "text": [
      "Found 8221 images belonging to 120 classes.\n"
     ]
    }
   ],
   "source": [
    "batch_size = 64\n",
    "height = 299\n",
    "width = 299\n",
    "train_dt = generator.flow_from_directory(\n",
    "    \"D:\\\\Downloads\\\\train_dataset\",\n",
    "    shuffle = True,\n",
    "    target_size=(height, width),\n",
    "    batch_size=batch_size,\n",
    "    subset=\"training\")"
   ]
  },
  {
   "cell_type": "code",
   "execution_count": 12,
   "id": "863cf8b7",
   "metadata": {},
   "outputs": [
    {
     "name": "stdout",
     "output_type": "stream",
     "text": [
      "Found 2001 images belonging to 120 classes.\n"
     ]
    }
   ],
   "source": [
    "val_dt = generator.flow_from_directory(\n",
    "    \"D:\\\\Downloads\\\\train_dataset\",\n",
    "    shuffle = True,\n",
    "    target_size=(height,width),\n",
    "    batch_size=batch_size,\n",
    "    subset=\"validation\"\n",
    ")"
   ]
  },
  {
   "cell_type": "code",
   "execution_count": 13,
   "id": "6c9a8d0c",
   "metadata": {},
   "outputs": [],
   "source": [
    "from tensorflow.keras.applications import xception\n",
    "from tensorflow.keras.applications import inception_v3\n",
    "from tensorflow.keras.applications import MobileNetV2\n",
    "from tensorflow.keras import layers\n",
    "from tensorflow.keras.models import Sequential\n",
    "from tensorflow.keras import optimizers\n",
    "from tensorflow.keras import losses"
   ]
  },
  {
   "cell_type": "code",
   "execution_count": 26,
   "id": "7a9064a1",
   "metadata": {},
   "outputs": [],
   "source": [
    "base_xception = xception.Xception(weights='imagenet', include_top=False, input_shape=(height,width,3))\n",
    "base_inception = inception_v3.InceptionV3(weights='imagenet', include_top=False, input_shape=(height,width,3))"
   ]
  },
  {
   "cell_type": "code",
   "execution_count": 27,
   "id": "280df136",
   "metadata": {},
   "outputs": [],
   "source": [
    "base_xception.trainable = False\n",
    "base_inception.trainable = False"
   ]
  },
  {
   "cell_type": "code",
   "execution_count": 28,
   "id": "383f5431",
   "metadata": {},
   "outputs": [],
   "source": [
    "base_xception_model = Sequential([\n",
    "    base_xception,\n",
    "    layers.GlobalAveragePooling2D(),\n",
    "    layers.Dropout(0.7),\n",
    "    layers.Dense(120, activation='softmax'),\n",
    "])"
   ]
  },
  {
   "cell_type": "code",
   "execution_count": 29,
   "id": "c8ef43b7",
   "metadata": {},
   "outputs": [],
   "source": [
    "base_inception_model = Sequential([\n",
    "    base_inception,\n",
    "    layers.GlobalAveragePooling2D(),\n",
    "    layers.Dropout(0.7),\n",
    "    layers.Dense(120, activation='softmax'),\n",
    "])"
   ]
  },
  {
   "cell_type": "code",
   "execution_count": 30,
   "id": "6153cf44",
   "metadata": {},
   "outputs": [],
   "source": [
    "epochs = 20"
   ]
  },
  {
   "cell_type": "code",
   "execution_count": 31,
   "id": "29f1eb1c",
   "metadata": {},
   "outputs": [],
   "source": [
    "base_xception_model.compile(optimizer='adam',\n",
    "                            loss='categorical_crossentropy',\n",
    "                            metrics=['accuracy'])"
   ]
  },
  {
   "cell_type": "code",
   "execution_count": 32,
   "id": "dff91262",
   "metadata": {},
   "outputs": [],
   "source": [
    "base_inception_model.compile(optimizer='adam',\n",
    "              loss='categorical_crossentropy',\n",
    "              metrics=['accuracy'])"
   ]
  },
  {
   "cell_type": "code",
   "execution_count": 33,
   "id": "f5e10bc7",
   "metadata": {},
   "outputs": [],
   "source": [
    "callback = tf.keras.callbacks.EarlyStopping(monitor='val_loss', patience=8)"
   ]
  },
  {
   "cell_type": "code",
   "execution_count": 34,
   "id": "228b7e65",
   "metadata": {},
   "outputs": [
    {
     "name": "stdout",
     "output_type": "stream",
     "text": [
      "Epoch 1/20\n",
      "129/129 [==============================] - 1077s 8s/step - loss: 2.2533 - accuracy: 0.6027 - val_loss: 0.7653 - val_accuracy: 0.8636\n",
      "Epoch 2/20\n",
      "129/129 [==============================] - 1120s 9s/step - loss: 0.6516 - accuracy: 0.8562 - val_loss: 0.4914 - val_accuracy: 0.8886\n",
      "Epoch 3/20\n",
      "129/129 [==============================] - 1121s 9s/step - loss: 0.4781 - accuracy: 0.8750 - val_loss: 0.4370 - val_accuracy: 0.8846\n",
      "Epoch 4/20\n",
      "129/129 [==============================] - 1070s 8s/step - loss: 0.4057 - accuracy: 0.8892 - val_loss: 0.3963 - val_accuracy: 0.8831\n",
      "Epoch 5/20\n",
      "129/129 [==============================] - 1060s 8s/step - loss: 0.3695 - accuracy: 0.8971 - val_loss: 0.3928 - val_accuracy: 0.8786\n",
      "Epoch 6/20\n",
      "129/129 [==============================] - 1061s 8s/step - loss: 0.3419 - accuracy: 0.8965 - val_loss: 0.3690 - val_accuracy: 0.8866\n",
      "Epoch 7/20\n",
      "129/129 [==============================] - 1055s 8s/step - loss: 0.3164 - accuracy: 0.9078 - val_loss: 0.3643 - val_accuracy: 0.8916\n",
      "Epoch 8/20\n",
      "129/129 [==============================] - 1043s 8s/step - loss: 0.2967 - accuracy: 0.9107 - val_loss: 0.3547 - val_accuracy: 0.8861\n",
      "Epoch 9/20\n",
      "129/129 [==============================] - 1068s 8s/step - loss: 0.2880 - accuracy: 0.9095 - val_loss: 0.3509 - val_accuracy: 0.8916\n",
      "Epoch 10/20\n",
      "129/129 [==============================] - 1067s 8s/step - loss: 0.2664 - accuracy: 0.9186 - val_loss: 0.3645 - val_accuracy: 0.8881\n",
      "Epoch 11/20\n",
      "129/129 [==============================] - 1082s 8s/step - loss: 0.2558 - accuracy: 0.9190 - val_loss: 0.3667 - val_accuracy: 0.8906\n",
      "Epoch 12/20\n",
      "129/129 [==============================] - 12676s 99s/step - loss: 0.2529 - accuracy: 0.9209 - val_loss: 0.3585 - val_accuracy: 0.8811\n",
      "Epoch 13/20\n",
      "129/129 [==============================] - 1018s 8s/step - loss: 0.2332 - accuracy: 0.9269 - val_loss: 0.3683 - val_accuracy: 0.8861\n",
      "Epoch 14/20\n",
      "129/129 [==============================] - 1034s 8s/step - loss: 0.2315 - accuracy: 0.9258 - val_loss: 0.3709 - val_accuracy: 0.8831\n",
      "Epoch 15/20\n",
      "129/129 [==============================] - 1046s 8s/step - loss: 0.2285 - accuracy: 0.9265 - val_loss: 0.3522 - val_accuracy: 0.8886\n",
      "Epoch 16/20\n",
      "129/129 [==============================] - 1077s 8s/step - loss: 0.2187 - accuracy: 0.9314 - val_loss: 0.3566 - val_accuracy: 0.8876\n",
      "Epoch 17/20\n",
      "129/129 [==============================] - 1074s 8s/step - loss: 0.2128 - accuracy: 0.9316 - val_loss: 0.3608 - val_accuracy: 0.8876\n"
     ]
    }
   ],
   "source": [
    "history_xception = base_xception_model.fit(\n",
    "    train_dt,\n",
    "    validation_data=val_dt,\n",
    "    epochs=epochs,\n",
    "    callbacks = [callback],\n",
    ")"
   ]
  },
  {
   "cell_type": "code",
   "execution_count": 36,
   "id": "2db03cbe",
   "metadata": {},
   "outputs": [
    {
     "data": {
      "image/png": "[encoded data removed]",
      "text/plain": [
       "<Figure size 1152x576 with 2 Axes>"
      ]
     },
     "metadata": {
      "needs_background": "light"
     },
     "output_type": "display_data"
    }
   ],
   "source": [
    "train_acc = history_xception.history['accuracy']\n",
    "val_acc = history_xception.history['val_accuracy']\n",
    "\n",
    "train_loss = history_xception.history['loss']\n",
    "val_loss = history_xception.history['val_loss']\n",
    "\n",
    "range_epochs = range(17)\n",
    "\n",
    "plt.figure(figsize=(16, 8))\n",
    "plt.subplot(1, 2, 1)\n",
    "plt.plot(range_epochs, train_acc, label='Training Accuracy')\n",
    "plt.plot(range_epochs, val_acc, label='Validation Accuracy')\n",
    "plt.legend()\n",
    "plt.title('Accuracy')\n",
    "\n",
    "plt.subplot(1, 2, 2)\n",
    "plt.plot(range_epochs, train_loss, label='Training Loss')\n",
    "plt.plot(range_epochs, val_loss, label='Validation Loss')\n",
    "plt.legend()\n",
    "plt.title('Loss')\n",
    "plt.show()"
   ]
  },
  {
   "cell_type": "code",
   "execution_count": 37,
   "id": "1bb4fd8f",
   "metadata": {},
   "outputs": [
    {
     "name": "stdout",
     "output_type": "stream",
     "text": [
      "Epoch 1/20\n",
      "129/129 [==============================] - 724s 6s/step - loss: 2.3917 - accuracy: 0.5082 - val_loss: 0.7049 - val_accuracy: 0.8541\n",
      "Epoch 2/20\n",
      "129/129 [==============================] - 622s 5s/step - loss: 0.7276 - accuracy: 0.8134 - val_loss: 0.4914 - val_accuracy: 0.8626\n",
      "Epoch 3/20\n",
      "129/129 [==============================] - 614s 5s/step - loss: 0.5418 - accuracy: 0.8438 - val_loss: 0.4356 - val_accuracy: 0.8661\n",
      "Epoch 4/20\n",
      "129/129 [==============================] - 605s 5s/step - loss: 0.4774 - accuracy: 0.8542 - val_loss: 0.3973 - val_accuracy: 0.8731\n",
      "Epoch 5/20\n",
      "129/129 [==============================] - 593s 5s/step - loss: 0.4246 - accuracy: 0.8683 - val_loss: 0.4185 - val_accuracy: 0.8741\n",
      "Epoch 6/20\n",
      "129/129 [==============================] - 595s 5s/step - loss: 0.3986 - accuracy: 0.8773 - val_loss: 0.3907 - val_accuracy: 0.8696\n",
      "Epoch 7/20\n",
      "129/129 [==============================] - 592s 5s/step - loss: 0.3813 - accuracy: 0.8767 - val_loss: 0.4036 - val_accuracy: 0.8786\n",
      "Epoch 8/20\n",
      "129/129 [==============================] - 1035s 8s/step - loss: 0.3624 - accuracy: 0.8831 - val_loss: 0.4079 - val_accuracy: 0.8666\n",
      "Epoch 9/20\n",
      "129/129 [==============================] - 602s 5s/step - loss: 0.3538 - accuracy: 0.8841 - val_loss: 0.3966 - val_accuracy: 0.8706\n",
      "Epoch 10/20\n",
      "129/129 [==============================] - 616s 5s/step - loss: 0.3180 - accuracy: 0.8961 - val_loss: 0.3980 - val_accuracy: 0.8741\n",
      "Epoch 11/20\n",
      "129/129 [==============================] - 598s 5s/step - loss: 0.3203 - accuracy: 0.8967 - val_loss: 0.3910 - val_accuracy: 0.8746\n",
      "Epoch 12/20\n",
      "129/129 [==============================] - 597s 5s/step - loss: 0.3145 - accuracy: 0.8965 - val_loss: 0.4080 - val_accuracy: 0.8701\n",
      "Epoch 13/20\n",
      "129/129 [==============================] - 611s 5s/step - loss: 0.3157 - accuracy: 0.8965 - val_loss: 0.4041 - val_accuracy: 0.8766\n",
      "Epoch 14/20\n",
      "129/129 [==============================] - 603s 5s/step - loss: 0.2907 - accuracy: 0.9009 - val_loss: 0.3945 - val_accuracy: 0.8736\n"
     ]
    }
   ],
   "source": [
    "history_inception_model = base_inception_model.fit(\n",
    "    train_dt,\n",
    "    validation_data=val_dt,\n",
    "    epochs=epochs,\n",
    "    callbacks = [callback],\n",
    ")"
   ]
  },
  {
   "cell_type": "code",
   "execution_count": 38,
   "id": "848096ad",
   "metadata": {},
   "outputs": [
    {
     "data": {
      "image/png": "[encoded data removed]",
      "text/plain": [
       "<Figure size 1152x576 with 2 Axes>"
      ]
     },
     "metadata": {
      "needs_background": "light"
     },
     "output_type": "display_data"
    }
   ],
   "source": [
    "train_acc = history_inception_model.history['accuracy']\n",
    "val_acc = history_inception_model.history['val_accuracy']\n",
    "\n",
    "train_loss = history_inception_model.history['loss']\n",
    "val_loss = history_inception_model.history['val_loss']\n",
    "\n",
    "range_epochs = range(14)\n",
    "\n",
    "plt.figure(figsize=(16, 8))\n",
    "plt.subplot(1, 2, 1)\n",
    "plt.plot(range_epochs, train_acc, label='Training Accuracy')\n",
    "plt.plot(range_epochs, val_acc, label='Validation Accuracy')\n",
    "plt.legend()\n",
    "plt.title('Accuracy')\n",
    "\n",
    "plt.subplot(1, 2, 2)\n",
    "plt.plot(range_epochs, train_loss, label='Training Loss')\n",
    "plt.plot(range_epochs, val_loss, label='Validation Loss')\n",
    "plt.legend()\n",
    "plt.title('Loss')\n",
    "plt.show()"
   ]
  },
  {
   "cell_type": "code",
   "execution_count": 40,
   "id": "67f98fa4",
   "metadata": {},
   "outputs": [
    {
     "name": "stdout",
     "output_type": "stream",
     "text": [
      "{'affenpinscher': 0, 'afghan_hound': 1, 'african_hunting_dog': 2, 'airedale': 3, 'american_staffordshire_terrier': 4, 'appenzeller': 5, 'australian_terrier': 6, 'basenji': 7, 'basset': 8, 'beagle': 9, 'bedlington_terrier': 10, 'bernese_mountain_dog': 11, 'black-and-tan_coonhound': 12, 'blenheim_spaniel': 13, 'bloodhound': 14, 'bluetick': 15, 'border_collie': 16, 'border_terrier': 17, 'borzoi': 18, 'boston_bull': 19, 'bouvier_des_flandres': 20, 'boxer': 21, 'brabancon_griffon': 22, 'briard': 23, 'brittany_spaniel': 24, 'bull_mastiff': 25, 'cairn': 26, 'cardigan': 27, 'chesapeake_bay_retriever': 28, 'chihuahua': 29, 'chow': 30, 'clumber': 31, 'cocker_spaniel': 32, 'collie': 33, 'curly-coated_retriever': 34, 'dandie_dinmont': 35, 'dhole': 36, 'dingo': 37, 'doberman': 38, 'english_foxhound': 39, 'english_setter': 40, 'english_springer': 41, 'entlebucher': 42, 'eskimo_dog': 43, 'flat-coated_retriever': 44, 'french_bulldog': 45, 'german_shepherd': 46, 'german_short-haired_pointer': 47, 'giant_schnauzer': 48, 'golden_retriever': 49, 'gordon_setter': 50, 'great_dane': 51, 'great_pyrenees': 52, 'greater_swiss_mountain_dog': 53, 'groenendael': 54, 'ibizan_hound': 55, 'irish_setter': 56, 'irish_terrier': 57, 'irish_water_spaniel': 58, 'irish_wolfhound': 59, 'italian_greyhound': 60, 'japanese_spaniel': 61, 'keeshond': 62, 'kelpie': 63, 'kerry_blue_terrier': 64, 'komondor': 65, 'kuvasz': 66, 'labrador_retriever': 67, 'lakeland_terrier': 68, 'leonberg': 69, 'lhasa': 70, 'malamute': 71, 'malinois': 72, 'maltese_dog': 73, 'mexican_hairless': 74, 'miniature_pinscher': 75, 'miniature_poodle': 76, 'miniature_schnauzer': 77, 'newfoundland': 78, 'norfolk_terrier': 79, 'norwegian_elkhound': 80, 'norwich_terrier': 81, 'old_english_sheepdog': 82, 'otterhound': 83, 'papillon': 84, 'pekinese': 85, 'pembroke': 86, 'pomeranian': 87, 'pug': 88, 'redbone': 89, 'rhodesian_ridgeback': 90, 'rottweiler': 91, 'saint_bernard': 92, 'saluki': 93, 'samoyed': 94, 'schipperke': 95, 'scotch_terrier': 96, 'scottish_deerhound': 97, 'sealyham_terrier': 98, 'shetland_sheepdog': 99, 'shih-tzu': 100, 'siberian_husky': 101, 'silky_terrier': 102, 'soft-coated_wheaten_terrier': 103, 'staffordshire_bullterrier': 104, 'standard_poodle': 105, 'standard_schnauzer': 106, 'sussex_spaniel': 107, 'tibetan_mastiff': 108, 'tibetan_terrier': 109, 'toy_poodle': 110, 'toy_terrier': 111, 'vizsla': 112, 'walker_hound': 113, 'weimaraner': 114, 'welsh_springer_spaniel': 115, 'west_highland_white_terrier': 116, 'whippet': 117, 'wire-haired_fox_terrier': 118, 'yorkshire_terrier': 119}\n"
     ]
    }
   ],
   "source": [
    "#expor labels.txt\n",
    "print (train_dt.class_indices)\n",
    "\n",
    "labels = '\\n'.join(sorted(train_dt.class_indices.keys()))\n",
    "\n",
    "with open('D:\\Downloads\\labels.txt', 'w') as f:\n",
    "    f.write(labels)"
   ]
  },
  {
   "cell_type": "code",
   "execution_count": 39,
   "id": "e59dca7c",
   "metadata": {},
   "outputs": [
    {
     "name": "stdout",
     "output_type": "stream",
     "text": [
      "INFO:tensorflow:Assets written to: D:\\Downloads\\assets\n"
     ]
    },
    {
     "name": "stderr",
     "output_type": "stream",
     "text": [
      "WARNING:absl:Buffer deduplication procedure will be skipped when flatbuffer library is not properly loaded\n"
     ]
    }
   ],
   "source": [
    "#choose xception\n",
    "model_dir = 'D:\\Downloads'\n",
    "tf.saved_model.save(base_xception_model, model_dir)\n",
    "\n",
    "tfConverter = tf.lite.TFLiteConverter.from_saved_model(model_dir)\n",
    "tflite_model = tfConverter.convert()\n",
    "\n",
    "with open('model.tflite', 'wb') as f:\n",
    "    f.write(tflite_model)"
   ]
  },
  {
   "cell_type": "code",
   "execution_count": null,
   "id": "9068c458",
   "metadata": {},
   "outputs": [],
   "source": []
  }
 ],
 "metadata": {
  "kernelspec": {
   "display_name": "Python 3",
   "language": "python",
   "name": "python3"
  },
  "language_info": {
   "codemirror_mode": {
    "name": "ipython",
    "version": 3
   },
   "file_extension": ".py",
   "mimetype": "text/x-python",
   "name": "python",
   "nbconvert_exporter": "python",
   "pygments_lexer": "ipython3",
   "version": "3.8.8"
  }
 },
 "nbformat": 4,
 "nbformat_minor": 5
}
